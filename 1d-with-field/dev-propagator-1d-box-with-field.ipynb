{
 "cells": [
  {
   "cell_type": "code",
   "execution_count": 1,
   "metadata": {},
   "outputs": [],
   "source": [
    "import numpy as np\n",
    "import matplotlib.pyplot as plt"
   ]
  },
  {
   "cell_type": "code",
   "execution_count": 2,
   "metadata": {},
   "outputs": [],
   "source": [
    "from numbers import Real\n",
    "\n",
    "from tdse.propagator.box1d import Propagator_on_1D_Box\n",
    "from tdse.evol import get_D1_tridiag, get_M1_tridiag\n",
    "from tdse.tridiag import tridiag_forward, tridiag_backward\n",
    "\n",
    "class Propagator_on_1D_Box_with_field(Propagator_on_1D_Box):\n",
    "    def __init__(self, N, dx, Vx, At, q=-1.0, x0=0.0, hbar=1.0, mass=1.0):\n",
    "        \"\"\"\n",
    "        Initalize\n",
    "        \n",
    "        Parameters\n",
    "        ----------\n",
    "        At : callable of a single real number t (time)\n",
    "            vector potential as a function of time\n",
    "        q : float\n",
    "            charge of a particle described by the wavefunction\n",
    "        \"\"\"\n",
    "        \n",
    "        if not callable(At):\n",
    "            _msg = \"`At` should be a callable. Given: {}\"\n",
    "            raise ValueError(_msg.format(At))\n",
    "        self.A = At\n",
    "        \n",
    "        if not isinstance(float(q), Real):\n",
    "            _msg = \"`q` should be real number. Given: {}\"\n",
    "            raise ValueError(_msg.format(q))\n",
    "        self.q = float(q)\n",
    "        \n",
    "        # Process arguments that is common with parent propagator\n",
    "        # and construct matrices that is common with field-absent case\n",
    "        super().__init__(N, dx, Vx, x0=x0, hbar=hbar, mass=mass)\n",
    "        \n",
    "        # Construct matrices for field-present case\n",
    "        self.M1 = get_M1_tridiag(self.N)\n",
    "        _D1 = get_D1_tridiag(self.N, self.dx)\n",
    "        self.M1HA_over_ihbar_At = (self.q / self.mass) * _D1\n",
    "#         self.M1HA_const_coef = 1.j * (self.q * self.hbar / self.mass)\n",
    "#         self.M1HA_over_A = _M1HA_const_coef * _D1\n",
    "        \n",
    "        \n",
    "        \n",
    "    def propagate_with_field(self, wf, dt, t_start, Nt=1):\n",
    "        \"\"\"Propagate the wavefunction in the presence of the field\n",
    "        \n",
    "        Notes\n",
    "        -----\n",
    "        When the field strength is zero,\n",
    "        consider using `propagate()` method for calculation performance\n",
    "        \n",
    "        Returns\n",
    "        -------\n",
    "        t_final : float\n",
    "            time after the propagation ends\n",
    "        \"\"\"\n",
    "        if not isinstance(wf, np.ndarray) or wf.dtype != np.complex:\n",
    "            raise ValueError(\"The wavefunction should be a complex type numpy array\")\n",
    "        _wf = wf\n",
    "        \n",
    "        if not isinstance(float(t_start), Real):\n",
    "            raise ValueError(\"`t_start` should be a real number. Given: {}\".format(t_start))\n",
    "        _t_start = float(t_start)\n",
    "        \n",
    "        if not isinstance(float(dt), Real):\n",
    "            raise ValueError(\"`dt` should be a real number. Given: {}\".format(dt))\n",
    "        _dt = float(dt)\n",
    "        \n",
    "        if not isinstance(Nt, Integral) or Nt <= 0:\n",
    "            raise ValueError(\"`Nt` should be a positive integer. Given: {}\".format(Nt))\n",
    "        _Nt = Nt\n",
    "        \n",
    "        _quarter_dt_M2H0_over_ihbar = (-0.25j * dt / self.hbar) * self.M2H\n",
    "        _M2U0_forward_quarter = self.M2 + _quarter_dt_M2H0_over_ihbar\n",
    "        _M2U0_backward_quarter = self.M2 - _quarter_dt_M2H0_over_ihbar\n",
    "        \n",
    "        _wf_mid = np.empty_like(_wf, dtype=_wf.dtype)\n",
    "        _t = _t_start\n",
    "        for _it in range(_Nt):\n",
    "            \n",
    "            tridiag_forward(_M2U0_forward_quarter, _wf, _wf_mid)\n",
    "            tridiag_backward(_M2U0_backward_quarter, _wf, _wf_mid)\n",
    "            \n",
    "            _half_dt_M1HA_over_ihbar = (0.5*dt * self.A(_t+0.5*_dt)) * self.M1HA_over_ihbar_At\n",
    "            _M1UA_forward_half = self.M1 + _half_dt_M1HA_over_ihbar\n",
    "            _M1UA_backward_half = self.M1 - _half_dt_M1HA_over_ihbar\n",
    "            tridiag_forward(_M1UA_forward_half, _wf, _wf_mid)\n",
    "            tridiag_backward(_M1UA_backward_half, _wf, _wf_mid)\n",
    "            \n",
    "            tridiag_forward(_M2U0_forward_quarter, _wf, _wf_mid)\n",
    "            tridiag_backward(_M2U0_backward_quarter, _wf, _wf_mid)\n",
    "            \n",
    "            _t += _dt\n",
    "            \n",
    "        return _t"
   ]
  },
  {
   "cell_type": "code",
   "execution_count": 3,
   "metadata": {},
   "outputs": [],
   "source": [
    "def A_func(t):\n",
    "    return 0.0\n",
    "\n",
    "prop = Propagator_on_1D_Box_with_field(N=101, dx=0.2, Vx=0.0, At=A_func)"
   ]
  },
  {
   "cell_type": "code",
   "execution_count": 4,
   "metadata": {},
   "outputs": [
    {
     "name": "stdout",
     "output_type": "stream",
     "text": [
      "iteration count at end: 428\n"
     ]
    }
   ],
   "source": [
    "wf = prop.propagate_to_ground_state()"
   ]
  },
  {
   "cell_type": "code",
   "execution_count": 5,
   "metadata": {},
   "outputs": [
    {
     "data": {
      "text/plain": [
       "[<matplotlib.lines.Line2D at 0x7fb5d22e0160>]"
      ]
     },
     "execution_count": 5,
     "metadata": {},
     "output_type": "execute_result"
    },
    {
     "data": {
      "image/png": "[encoded data removed]",
      "text/plain": [
       "<Figure size 432x288 with 1 Axes>"
      ]
     },
     "metadata": {
      "needs_background": "light"
     },
     "output_type": "display_data"
    }
   ],
   "source": [
    "fig, ax = plt.subplots()\n",
    "ax.plot(np.arange(prop.wf.N), wf.real)"
   ]
  }
 ],
 "metadata": {
  "kernelspec": {
   "display_name": "Python 3",
   "language": "python",
   "name": "python3"
  },
  "language_info": {
   "codemirror_mode": {
    "name": "ipython",
    "version": 3
   },
   "file_extension": ".py",
   "mimetype": "text/x-python",
   "name": "python",
   "nbconvert_exporter": "python",
   "pygments_lexer": "ipython3",
   "version": "3.8.1"
  }
 },
 "nbformat": 4,
 "nbformat_minor": 4
}
