{
 "cells": [
  {
   "cell_type": "code",
   "execution_count": 1,
   "metadata": {},
   "outputs": [],
   "source": [
    "import numpy as np\n",
    "import matplotlib.pyplot as plt"
   ]
  },
  {
   "cell_type": "code",
   "execution_count": 2,
   "metadata": {},
   "outputs": [],
   "source": [
    "from numpy import asarray\n",
    "\n",
    "from tdse.propagator._base import Wavefunction\n",
    "\n",
    "class Wavefunction_on_Spherical_Box_with_single_m(Wavefunction):\n",
    "    \"\"\"\n",
    "    A specification object for wavefunction defined on a spherical box\n",
    "    with a single azimuthal quantum number `m`\n",
    "    \"\"\"\n",
    "    \n",
    "    dim = 3\n",
    "    \n",
    "    @staticmethod\n",
    "    def get_r_arr(Nr, dr):\n",
    "        _r_arr = dr * np.arange(1, Nr+1)\n",
    "        return _r_arr\n",
    "    \n",
    "    @classmethod\n",
    "    def norm_sq(cls, wf, dr):\n",
    "        \"\"\"Evalaute the norm square of the given wavefunction array\n",
    "        \n",
    "        Parameters\n",
    "        ----------\n",
    "        wf : (..., Nlm, Nr) array-like\n",
    "            a single or an array of wavefunction arrays\n",
    "            with each wavefunction of shape (Nlm, Nr)\n",
    "        dr : float\n",
    "            a grid spacing of the radial grid\n",
    "        \"\"\"\n",
    "        _wf = asarray(wf)\n",
    "        _Nr = _wf.shape[-1]\n",
    "        _r_arr = cls.get_r_arr(_Nr, dr)\n",
    "        _wf_abs_sq = np.real(_wf.conj() * _wf)\n",
    "        _norm_sq_lm = np.sum(_wf_abs_sq, axis=-1)\n",
    "        _norm_sq_total = np.sum(_norm_sq_lm, axis=-1)\n",
    "        return _norm_sq_total"
   ]
  },
  {
   "cell_type": "code",
   "execution_count": 3,
   "metadata": {},
   "outputs": [],
   "source": [
    "from numbers import Integral\n",
    "\n",
    "import numpy as np\n",
    "\n",
    "from tdse.evol import (get_M2_tridiag, get_D2_tridiag, \n",
    "                       mul_tridiag_and_diag)\n",
    "from tdse.tridiag import tridiag_forward, tridiag_backward\n",
    "\n",
    "from tdse.propagator._base import Propagator\n",
    "\n",
    "class Propagator_on_Spherical_Box_with_single_m(Propagator):\n",
    "    \"\"\"\n",
    "    Propagator designed to propagate a wavefunction \n",
    "    defined on a spherical box with single azimuthal quantum number m\n",
    "    \n",
    "    The wavefunction is expanded by a set of spherical harmonics.\n",
    "    The radial functions are discretized on a uniform grid,\n",
    "    i.e. with a fixed grid spacing.\"\"\"\n",
    "    \n",
    "    wf_class = Wavefunction_on_Spherical_Box_with_single_m\n",
    "    \n",
    "    def __init__(self, Nr, dr, m, lmax, Vr=0.0, hbar=1.0, mass=1.0):\n",
    "        \n",
    "        # Check argumetns\n",
    "        if Nr != int(Nr) or not (Nr > 0):\n",
    "            _msg = \"`Nr` should be a positive integer. Given: {}\"\n",
    "            raise ValueError(_msg.format(Nr))\n",
    "        self.Nr = int(Nr)\n",
    "        \n",
    "        if not (float(dr) > 0):\n",
    "            _msg = \"`dr` should be a positive real number. Given: {}\"\n",
    "            raise ValueError(_msg.format(dr))\n",
    "        self.dr = float(dr)\n",
    "        \n",
    "        if not isinstance(m, Integral) or m < 0:\n",
    "            _msg = \"`m` should be a nonnegative integer. Given: {}\"\n",
    "            raise ValueError(_msg.format(m))\n",
    "        self.m = m\n",
    "        \n",
    "        if not isinstance(lmax, Integral) or lmax < m:\n",
    "            _msg = \"`lmax` should be an integer and `>= m`. Given: {}\"\n",
    "            raise ValueError(_msg.format(lmax))\n",
    "        self.lmax = lmax\n",
    "        \n",
    "        self.hbar, self.mass = hbar, mass\n",
    "        \n",
    "        self.l = np.arange(self.m, self.lmax+1, dtype=int)\n",
    "        _Nl = self.l.size\n",
    "        self.Nlm = _Nl\n",
    "        self.lm = np.array([(l,self.m) for l in self.l], dtype=int)\n",
    "        \n",
    "        self.r_arr = self.dr * np.arange(1, self.Nr+1)\n",
    "        self.r_max = self.r_arr[-1] + dr\n",
    "        \n",
    "        if Vr == 0.0: self.Vr = np.zeros((self.Nr,), dtype=np.float)\n",
    "        else:\n",
    "            _Vr = asarray(Vr)\n",
    "            if _Vr.shape != (self.Nr,):\n",
    "                _msg = \"`Vr` should be of shape ({},). Given shape: {}\"\n",
    "                raise ValueError(_msg.format(self.Nr, _Vr.shape))\n",
    "            self.Vr = _Vr\n",
    "        \n",
    "        _D2 = get_D2_tridiag(self.Nr, self.dr)\n",
    "        self.M2 = get_M2_tridiag(self.Nr)\n",
    "        \n",
    "        # Correction for Coulomb potential\n",
    "#         _D2[1,0] = \n",
    "#         self.M2[1,0] = \n",
    "        \n",
    "        _M2Hl_shape = (self.Nlm,) + self.M2.shape\n",
    "        self.M2Hl = np.empty(_M2Hl_shape, dtype=self.Vr.dtype)\n",
    "        _hbar_sq_over_2mass = self.hbar**2 / (2.*self.mass)\n",
    "        _Kr = - _hbar_sq_over_2mass * _D2\n",
    "        _r_sq = np.square(self.r_arr)\n",
    "        for _il, _l in enumerate(self.l):\n",
    "            _Vl = _hbar_sq_over_2mass * _l * (_l+1) / _r_sq + self.Vr\n",
    "            _M2Vl = mul_tridiag_and_diag(self.M2, _Vl)\n",
    "            self.M2Hl[_il] = _Kr + _M2Vl\n",
    "            \n",
    "    def propagate(self, wf, dt, Nt=1):\n",
    "        if Nt < 0: raise ValueError(\n",
    "            \"Nt should be a nonnegative integer. Given: {}\".format(Nt))\n",
    "        _FO = (-0.5j*dt/self.hbar) * self.M2Hl\n",
    "        _Uf_half = self.M2 + _FO # unitary half timestep prop forward\n",
    "        _Ub_half = self.M2 - _FO # unitary half timestep prop backward\n",
    "        _wf_lm_mid = np.empty((self.Nr,), dtype=wf.dtype)\n",
    "        for _it in range(Nt):\n",
    "            for _ilm in range(self.Nlm):\n",
    "                tridiag_forward(_Uf_half[_ilm], wf[_ilm], _wf_lm_mid)\n",
    "                tridiag_backward(_Ub_half[_ilm], wf[_ilm], _wf_lm_mid)\n",
    "    \n",
    "    def propagate_to_ground_state(self, wf=None, dt=None, max_Nt=20000,\n",
    "                                  Nt_per_iter=10, norm_thres=1e-13):\n",
    "        _dt = dt\n",
    "        if dt is None: _dt = self.dr / 4.\n",
    "        \n",
    "        if wf is None: \n",
    "            _wf = np.empty((self.Nlm, self.Nr), dtype=np.complex)\n",
    "            _wf[:] = np.random.rand(*_wf.shape)\n",
    "        else: _wf = np.asarray(wf)\n",
    "            \n",
    "        _normalizer_args = (self.dr,)\n",
    "        super().propagate_to_ground_state(_wf, _dt, max_Nt,\n",
    "            _normalizer_args, Nt_per_iter, norm_thres)\n",
    "        \n",
    "        if wf is None: return _wf"
   ]
  },
  {
   "cell_type": "code",
   "execution_count": 4,
   "metadata": {},
   "outputs": [],
   "source": [
    "prop = Propagator_on_Spherical_Box_with_single_m(\n",
    "    Nr=51, dr=0.2, m=0, lmax=0, Vr=0.0)"
   ]
  },
  {
   "cell_type": "code",
   "execution_count": 5,
   "metadata": {},
   "outputs": [
    {
     "name": "stdout",
     "output_type": "stream",
     "text": [
      "iteration count at end: 72\n"
     ]
    }
   ],
   "source": [
    "wf_t0 = prop.propagate_to_ground_state(norm_thres=1e-10)"
   ]
  },
  {
   "cell_type": "code",
   "execution_count": 6,
   "metadata": {},
   "outputs": [],
   "source": [
    "wf = wf_t0.copy()"
   ]
  },
  {
   "cell_type": "code",
   "execution_count": 7,
   "metadata": {},
   "outputs": [
    {
     "data": {
      "image/png": "[encoded data removed]",
      "text/plain": [
       "<Figure size 432x288 with 1 Axes>"
      ]
     },
     "metadata": {
      "needs_background": "light"
     },
     "output_type": "display_data"
    }
   ],
   "source": [
    "fig, ax = plt.subplots()\n",
    "for ilm, (l,m) in enumerate(prop.lm):\n",
    "    ax.plot(prop.r_arr, wf[ilm].real)"
   ]
  },
  {
   "cell_type": "markdown",
   "metadata": {},
   "source": [
    "#### Analytical solution"
   ]
  },
  {
   "cell_type": "code",
   "execution_count": 8,
   "metadata": {},
   "outputs": [],
   "source": [
    "from tdse.analytic import spherical_jn_zeros\n",
    "\n",
    "jl_zero_1 = spherical_jn_zeros(0, 1)"
   ]
  },
  {
   "cell_type": "code",
   "execution_count": 9,
   "metadata": {},
   "outputs": [],
   "source": [
    "from scipy.special import spherical_jn\n",
    "\n",
    "R00 = spherical_jn(0, (jl_zero_1 / prop.r_max) * prop.r_arr)\n",
    "g00 = prop.r_arr * R00\n",
    "prop.wf_class.normalize(g00, prop.dr)"
   ]
  },
  {
   "cell_type": "markdown",
   "metadata": {},
   "source": [
    "#### Comparison : analytical - numerical"
   ]
  },
  {
   "cell_type": "code",
   "execution_count": 10,
   "metadata": {},
   "outputs": [
    {
     "data": {
      "image/png": "[encoded data removed]",
      "text/plain": [
       "<Figure size 432x288 with 1 Axes>"
      ]
     },
     "metadata": {
      "needs_background": "light"
     },
     "output_type": "display_data"
    }
   ],
   "source": [
    "fig, ax = plt.subplots()\n",
    "\n",
    "ax.plot(prop.r_arr, g00.real, label='analytical')\n",
    "ax.plot(prop.r_arr, wf[0].real, '.', label='numerical')\n",
    "\n",
    "ax.legend()\n",
    "ax.set_xlabel(\"radial coordinate r / a.u.\")\n",
    "ax.set_ylabel(\"amplitude / a.u.\")\n",
    "ax.set_title(\"wavefunction comparison\")\n",
    "fig.tight_layout()\n",
    "\n",
    "# fig.savefig(\"state-analytical-comparison-test-1.png\")"
   ]
  },
  {
   "cell_type": "markdown",
   "metadata": {},
   "source": [
    "#### Evalaute the raidal function $R_{lm}(r,t) \\equiv \\frac{1}{r}g_{lm}(r,t)$"
   ]
  },
  {
   "cell_type": "code",
   "execution_count": 11,
   "metadata": {},
   "outputs": [],
   "source": [
    "Rm = wf[0,:] / prop.r_arr"
   ]
  },
  {
   "cell_type": "code",
   "execution_count": 12,
   "metadata": {},
   "outputs": [
    {
     "data": {
      "text/plain": [
       "[<matplotlib.lines.Line2D at 0x7f0a5ddc7d30>]"
      ]
     },
     "execution_count": 12,
     "metadata": {},
     "output_type": "execute_result"
    },
    {
     "data": {
      "image/png": "[encoded data removed]",
      "text/plain": [
       "<Figure size 432x288 with 1 Axes>"
      ]
     },
     "metadata": {
      "needs_background": "light"
     },
     "output_type": "display_data"
    }
   ],
   "source": [
    "fig, ax = plt.subplots()\n",
    "ax.plot(Rm.real)"
   ]
  },
  {
   "cell_type": "markdown",
   "metadata": {},
   "source": [
    "# Real Propagation"
   ]
  },
  {
   "cell_type": "code",
   "execution_count": 13,
   "metadata": {},
   "outputs": [],
   "source": [
    "dt, Niter, Nt_per_iter = 0.05, 32, 101\n",
    "t_arr = dt * Nt_per_iter * np.arange(Niter)"
   ]
  },
  {
   "cell_type": "code",
   "execution_count": 14,
   "metadata": {},
   "outputs": [],
   "source": [
    "wf = np.empty_like(wf_t0, dtype=np.complex)\n",
    "wf[:] = wf_t0\n",
    "wf_t = np.empty((Niter,)+wf_t0.shape, dtype=np.complex)\n",
    "wf_t[0] = wf\n",
    "for it in range(Niter-1):\n",
    "    prop.propagate(wf, dt, Nt=Nt_per_iter)\n",
    "    wf_t[it+1] = wf"
   ]
  },
  {
   "cell_type": "code",
   "execution_count": 15,
   "metadata": {},
   "outputs": [],
   "source": [
    "from vis.plot import construct_catesian_mesh_for_pcolormesh\n",
    "t_cmesh, r_cmesh = construct_catesian_mesh_for_pcolormesh(t_arr, prop.r_arr)"
   ]
  },
  {
   "cell_type": "code",
   "execution_count": 16,
   "metadata": {},
   "outputs": [
    {
     "data": {
      "text/plain": [
       "<matplotlib.collections.QuadMesh at 0x7f0a5dc66700>"
      ]
     },
     "execution_count": 16,
     "metadata": {},
     "output_type": "execute_result"
    },
    {
     "data": {
      "image/png": "[encoded data removed]",
      "text/plain": [
       "<Figure size 432x288 with 1 Axes>"
      ]
     },
     "metadata": {
      "needs_background": "light"
     },
     "output_type": "display_data"
    }
   ],
   "source": [
    "fig, ax = plt.subplots()\n",
    "ax.pcolormesh(t_cmesh, r_cmesh, wf_t[:,0,:].real)"
   ]
  }
 ],
 "metadata": {
  "kernelspec": {
   "display_name": "Python 3",
   "language": "python",
   "name": "python3"
  },
  "language_info": {
   "codemirror_mode": {
    "name": "ipython",
    "version": 3
   },
   "file_extension": ".py",
   "mimetype": "text/x-python",
   "name": "python",
   "nbconvert_exporter": "python",
   "pygments_lexer": "ipython3",
   "version": "3.8.1"
  }
 },
 "nbformat": 4,
 "nbformat_minor": 4
}
