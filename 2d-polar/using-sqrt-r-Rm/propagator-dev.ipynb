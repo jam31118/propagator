{
 "cells": [
  {
   "cell_type": "code",
   "execution_count": 1,
   "metadata": {},
   "outputs": [],
   "source": [
    "import numpy as np\n",
    "import matplotlib.pyplot as plt"
   ]
  },
  {
   "cell_type": "code",
   "execution_count": 57,
   "metadata": {},
   "outputs": [],
   "source": [
    "from math import pi\n",
    "\n",
    "def norm_sq_of_wf_on_uniform_grid_polar_box(wf, dr):\n",
    "    _wf_abs_sq = np.real(wf.conj() * wf)\n",
    "    return 2.* pi * dr * np.sum(_wf_abs_sq)\n",
    "\n",
    "def normalize_wf_on_uniform_grid_polar_box(wf, dr):\n",
    "    _norm_sq = norm_sq_of_wf_on_uniform_grid_polar_box(wf, dr)\n",
    "    wf *= 1. / np.sqrt(_norm_sq)\n",
    "\n",
    "from tdse.evol import get_M2_tridiag, get_D2_tridiag, mul_tridiag_and_diag\n",
    "from tdse.tridiag import tridiag_forward, tridiag_backward\n",
    "\n",
    "class Propagator_on_Uniform_Grid_Polar_Box(object):\n",
    "    \"\"\"Propagator object defined on a polar box with uniform grid\"\"\"\n",
    "    \n",
    "    def __init__(self, Nr, dr, m_max, Vr=0.0, hbar=1.0, mass=1.0):\n",
    "        \"\"\"Initialize\n",
    "        \n",
    "        Parameters\n",
    "        ----------\n",
    "        Nr : int\n",
    "            the number of radial grid points\n",
    "        dr : float\n",
    "            the radial grid spacing\n",
    "        m_max : int\n",
    "            maximum azimuthal quantum number 'm'\n",
    "        Vr : (Nr,) array-like\n",
    "            radially symmetric potential values\n",
    "            \n",
    "        Notes\n",
    "        -----\n",
    "        The total wavefunction is expanded as:\n",
    "        \n",
    "        .. math::\n",
    "        \n",
    "            \\\\psi(r,\\\\phi,t) = \n",
    "            \\\\frac{1}{\\\\sqrt{r}}\\\\sum_{m=-m_{max}}^{m_{max}}\n",
    "            {g_{m}(r,t)e^{im\\\\phi}}\n",
    "        \"\"\"\n",
    "        \n",
    "        # Check argumetns\n",
    "        if Nr != int(Nr) or not (Nr > 0):\n",
    "            _msg = \"`Nr` should be a positive integer. Given: {}\"\n",
    "            raise ValueError(_msg.format(Nr))\n",
    "        self.Nr = int(Nr)\n",
    "        \n",
    "        if not (float(dr) > 0):\n",
    "            _msg = \"`dr` should be positive real number. Given: {}\"\n",
    "            raise ValueError(_msg.format(dr))\n",
    "        self.dr = float(dr)\n",
    "        \n",
    "        if m_max != int(m_max) or m_max < 0:\n",
    "            _msg = \"`m_max` should be nonnegative integer. Given: {}\"\n",
    "            raise ValueError(_msg.format(m_max))\n",
    "        self.m_max = int(m_max)\n",
    "        \n",
    "        self.Nm = 2 * self.m_max + 1\n",
    "        \n",
    "        if Vr == 0.0: self.Vr = np.zeros((self.Nr,), dtype=np.float)\n",
    "        else:\n",
    "            _Vr = np.asarray(Vr)\n",
    "            if _Vr.shape != (self.Nr,):\n",
    "                _msg = \"`Vr` should be of shape ({},). Given shape: {}\"\n",
    "                raise ValueError(_msg.format(self.Nr, _Vr.shape))\n",
    "            self.Vr = _Vr\n",
    "        \n",
    "        self.hbar, self.mass = hbar, mass\n",
    "        \n",
    "        \n",
    "        # Evaluate matrices for constructing propagator\n",
    "        self.r_arr = self.dr * np.arange(1, self.Nr+1)\n",
    "        self.r_max = self.r_arr[-1] + dr\n",
    "        self.M2 = get_M2_tridiag(self.Nr)\n",
    "        \n",
    "        self.M2Hm = np.empty((self.Nm, 3, self.Nr), dtype=np.complex)\n",
    "        \n",
    "#         _M2Hm_2d_shape = (3, self.Nm * self.Nr)\n",
    "#         self.M2Hm_2d = np.empty(_M2Hm_2d_shape, dtype=np.complex)\n",
    "        \n",
    "        _D2 = get_D2_tridiag(self.Nr, self.dr)\n",
    "        \n",
    "        # correction to match boundary condition at r=0 (i.e. dr_gm = 0)\n",
    "        _delta_dr_sq = -3.\n",
    "        _D2[1,0] = _delta_dr_sq / self.dr**2\n",
    "        self.M2[1,0] = (12 + _delta_dr_sq) / 12.0\n",
    "        \n",
    "        _hbar2m = - 0.5 * self.hbar**2 / self.mass\n",
    "        _Kr = _hbar2m * _D2  # something like radial kinetic energy\n",
    "        \n",
    "        _r_sq_arr = np.square(self.r_arr)\n",
    "        for _im, _m in enumerate(range(-self.m_max, self.m_max+1)):\n",
    "            _Vm = self.Vr + (_hbar2m * (0.25-_m*_m)) / _r_sq_arr\n",
    "            _M2Vm = mul_tridiag_and_diag(self.M2, _Vm)\n",
    "            self.M2Hm[_im,:,:] = _Kr + _M2Vm\n",
    "#             _start_index = im * self.Nm\n",
    "#             self.M2Hm_2d[:,_start_index:_start_index+self.Nr] = _Kr + _M2Vm\n",
    "    \n",
    "            \n",
    "    def propagate(self, wf, dt, Nt=1):\n",
    "        \"\"\"Propagate given wavefunction by a given timestep\n",
    "        \n",
    "        Parameters\n",
    "        ----------\n",
    "        wf : (Nm, Nr) or (Nm*Nr,) array-like\n",
    "            array of wavefunction values\n",
    "            where `Nm` is the number of azimuthal basis\n",
    "            and `Nr` is the number of radial grid points\n",
    "        dt : float\n",
    "            timestep to propagate\n",
    "        Nt : int\n",
    "            number of timesteps\n",
    "        \"\"\"\n",
    "        _wf_1d = np.ravel(wf)\n",
    "        if _wf_1d.shape != (self.Nm * self.Nr,):\n",
    "            _msg = (\"Inconsistent wavefunction shape given: {}\\n\"\n",
    "                    \"It should be possible to flatten the shape into: {}\")\n",
    "            raise ValueError(_msg.format(_wf_1d.shape, (self.Nm * self.Nr,)))\n",
    "        \n",
    "        if Nt != int(Nt) or not (Nt > 0):\n",
    "            _msg = \"`Nt` should be a positive integer\"\n",
    "            raise ValueError(_msg.format(Nr))\n",
    "        _Nt = int(Nt)\n",
    "        \n",
    "        _FO = (-0.5j*dt/self.hbar) * self.M2Hm\n",
    "        _unitary_shape = (3,)+_wf_1d.shape\n",
    "        _unitary_forward_half = np.swapaxes(self.M2+_FO, 0, 1).reshape(_unitary_shape)\n",
    "        _unitary_backward_half = np.swapaxes(self.M2-_FO, 0, 1).reshape(_unitary_shape)\n",
    "        \n",
    "        _wf_1d_half = np.empty_like(_wf_1d, dtype=complex)\n",
    "        for _it in range(_Nt):\n",
    "            tridiag_forward(_unitary_forward_half, _wf_1d, _wf_1d_half)\n",
    "            tridiag_backward(_unitary_backward_half, _wf_1d, _wf_1d_half)\n",
    "            \n",
    "            \n",
    "    def propagate_to_ground_state(self, wf, dt=None, max_Nt=20000, Nt_per_iter=10, \n",
    "                                  norm_thres=1e-14):\n",
    "        \"\"\"Propagate the given wavefunction to the ground state of this system\"\"\"\n",
    "        if dt is None: _dt = self.dr / 4.\n",
    "        else:\n",
    "            _dt = float(dt)\n",
    "            if not (_dt > 0): \n",
    "                _msg = \"`dt` should be a positive real number. Given: {}\"\n",
    "                raise ValueError(_msg.format(_dt))\n",
    "        _imag_dt = -1.0j * _dt  # imaginary time for propagating to ground state\n",
    "        \n",
    "        normalize_wf_on_uniform_grid_polar_box(wf, self.dr)\n",
    "        _wf_prev = wf.copy()\n",
    "        \n",
    "        _max_iter = int(max_Nt / Nt_per_iter) + 1\n",
    "        for _i in range(_max_iter):\n",
    "            self.propagate(wf, _imag_dt, Nt=Nt_per_iter)\n",
    "            normalize_wf_on_uniform_grid_polar_box(wf, self.dr)\n",
    "            _norm = norm_sq_of_wf_on_uniform_grid_polar_box(wf-_wf_prev, self.dr)\n",
    "            if _norm < norm_thres: break\n",
    "            _wf_prev = wf.copy()\n",
    "        if _i >= _max_iter-1: raise Exception(\"Maximum iteration exceeded\")\n",
    "        else: print(\"iteration count at end: {}\".format(_i))"
   ]
  },
  {
   "cell_type": "code",
   "execution_count": 58,
   "metadata": {},
   "outputs": [],
   "source": [
    "prop = Propagator_on_Uniform_Grid_Polar_Box(Nr=101, dr=0.2, m_max=0, Vr=0.0)"
   ]
  },
  {
   "cell_type": "code",
   "execution_count": 48,
   "metadata": {},
   "outputs": [
    {
     "data": {
      "text/plain": [
       "-49.99999999999999"
      ]
     },
     "execution_count": 48,
     "metadata": {},
     "output_type": "execute_result"
    }
   ],
   "source": [
    "-2 / prop.dr**2"
   ]
  },
  {
   "cell_type": "code",
   "execution_count": 49,
   "metadata": {},
   "outputs": [
    {
     "data": {
      "text/plain": [
       "-54.99999999999999"
      ]
     },
     "execution_count": 49,
     "metadata": {},
     "output_type": "execute_result"
    }
   ],
   "source": [
    "-2.2 / prop.dr**2"
   ]
  },
  {
   "cell_type": "code",
   "execution_count": 50,
   "metadata": {},
   "outputs": [],
   "source": [
    "D2 = get_D2_tridiag(prop.Nr, prop.dr)"
   ]
  },
  {
   "cell_type": "code",
   "execution_count": 51,
   "metadata": {},
   "outputs": [
    {
     "data": {
      "text/plain": [
       "array([-50., -50., -50., -50., -50., -50., -50., -50., -50., -50., -50.,\n",
       "       -50., -50., -50., -50., -50., -50., -50., -50., -50., -50., -50.,\n",
       "       -50., -50., -50., -50., -50., -50., -50., -50., -50., -50., -50.,\n",
       "       -50., -50., -50., -50., -50., -50., -50., -50., -50., -50., -50.,\n",
       "       -50., -50., -50., -50., -50., -50., -50., -50., -50., -50., -50.,\n",
       "       -50., -50., -50., -50., -50., -50., -50., -50., -50., -50., -50.,\n",
       "       -50., -50., -50., -50., -50., -50., -50., -50., -50., -50., -50.,\n",
       "       -50., -50., -50., -50., -50., -50., -50., -50., -50., -50., -50.,\n",
       "       -50., -50., -50., -50., -50., -50., -50., -50., -50., -50., -50.,\n",
       "       -50., -50.])"
      ]
     },
     "execution_count": 51,
     "metadata": {},
     "output_type": "execute_result"
    }
   ],
   "source": [
    "D2[1,:]"
   ]
  },
  {
   "cell_type": "code",
   "execution_count": 59,
   "metadata": {},
   "outputs": [],
   "source": [
    "wf = np.empty((prop.Nm, prop.Nr), dtype=complex)\n",
    "wf[:] = np.random.rand(prop.Nm, prop.Nr)"
   ]
  },
  {
   "cell_type": "code",
   "execution_count": 60,
   "metadata": {},
   "outputs": [
    {
     "name": "stdout",
     "output_type": "stream",
     "text": [
      "iteration count at end: 608\n"
     ]
    }
   ],
   "source": [
    "prop.propagate_to_ground_state(wf)"
   ]
  },
  {
   "cell_type": "code",
   "execution_count": 61,
   "metadata": {},
   "outputs": [
    {
     "data": {
      "image/png": "[encoded data removed]",
      "text/plain": [
       "<Figure size 432x288 with 1 Axes>"
      ]
     },
     "metadata": {
      "needs_background": "light"
     },
     "output_type": "display_data"
    }
   ],
   "source": [
    "fig, ax = plt.subplots()\n",
    "for im in range(prop.Nm):\n",
    "    ax.plot(prop.r_arr, wf[im].real)"
   ]
  },
  {
   "cell_type": "code",
   "execution_count": 55,
   "metadata": {},
   "outputs": [],
   "source": [
    "from scipy.special import jn, jn_zeros\n",
    "\n",
    "j0_zero_0, = jn_zeros(0, 1)\n",
    "j0_r = jn(0, j0_zero_0 * prop.r_arr / prop.r_max)\n",
    "g0_r_ana = np.sqrt(prop.r_arr) * j0_r\n",
    "normalize_wf_on_uniform_grid_polar_box(g0_r_ana, prop.dr)\n",
    "\n",
    "g0_r_num = wf[0]"
   ]
  },
  {
   "cell_type": "code",
   "execution_count": 62,
   "metadata": {},
   "outputs": [
    {
     "data": {
      "text/plain": [
       "<matplotlib.legend.Legend at 0x7f252b97a0d0>"
      ]
     },
     "execution_count": 62,
     "metadata": {},
     "output_type": "execute_result"
    },
    {
     "data": {
      "image/png": "[encoded data removed]",
      "text/plain": [
       "<Figure size 432x288 with 1 Axes>"
      ]
     },
     "metadata": {
      "needs_background": "light"
     },
     "output_type": "display_data"
    }
   ],
   "source": [
    "fig, ax = plt.subplots()\n",
    "ax.plot(prop.r_arr, g0_r_ana, label='analytical')\n",
    "lnum, = ax.plot(prop.r_arr, g0_r_num.real, '.', label='numerical')\n",
    "ax.plot(prop.r_arr, np.abs(g0_r_num), color=lnum.get_color(), linewidth=0.7)\n",
    "ax.set_xlabel(\"r / a.u.\"), ax.set_ylabel(\"amplitude / a.u.\")\n",
    "ax.legend()\n",
    "# fig.savefig(\"propator-polar-box-test-1.png\")"
   ]
  },
  {
   "cell_type": "code",
   "execution_count": 56,
   "metadata": {},
   "outputs": [
    {
     "data": {
      "text/plain": [
       "<matplotlib.legend.Legend at 0x7f252bb10760>"
      ]
     },
     "execution_count": 56,
     "metadata": {},
     "output_type": "execute_result"
    },
    {
     "data": {
      "image/png": "[encoded data removed]",
      "text/plain": [
       "<Figure size 432x288 with 1 Axes>"
      ]
     },
     "metadata": {
      "needs_background": "light"
     },
     "output_type": "display_data"
    }
   ],
   "source": [
    "fig, ax = plt.subplots()\n",
    "ax.plot(prop.r_arr, g0_r_ana, label='analytical')\n",
    "lnum, = ax.plot(prop.r_arr, g0_r_num.real, '.', label='numerical')\n",
    "ax.plot(prop.r_arr, np.abs(g0_r_num), color=lnum.get_color(), linewidth=0.7)\n",
    "ax.set_xlabel(\"r / a.u.\"), ax.set_ylabel(\"amplitude / a.u.\")\n",
    "ax.legend()\n",
    "# fig.savefig(\"propator-polar-box-test-1.png\")"
   ]
  },
  {
   "cell_type": "code",
   "execution_count": 133,
   "metadata": {},
   "outputs": [
    {
     "data": {
      "text/plain": [
       "1.0000000000000004"
      ]
     },
     "execution_count": 133,
     "metadata": {},
     "output_type": "execute_result"
    }
   ],
   "source": [
    "norm_sq_of_wf_on_uniform_grid_polar_box(wf, prop.dr)"
   ]
  },
  {
   "cell_type": "code",
   "execution_count": 18,
   "metadata": {},
   "outputs": [],
   "source": [
    "# fig.savefig(\"ground-state-prototype-test-1.png\")"
   ]
  },
  {
   "cell_type": "code",
   "execution_count": 134,
   "metadata": {},
   "outputs": [],
   "source": [
    "from tdse.matrix import mat_vec_mul_tridiag"
   ]
  },
  {
   "cell_type": "code",
   "execution_count": 135,
   "metadata": {},
   "outputs": [
    {
     "data": {
      "text/plain": [
       "'tdse.matrix_c'"
      ]
     },
     "execution_count": 135,
     "metadata": {},
     "output_type": "execute_result"
    }
   ],
   "source": [
    "mat_vec_mul_tridiag.__module__"
   ]
  },
  {
   "cell_type": "code",
   "execution_count": 15,
   "metadata": {},
   "outputs": [],
   "source": [
    "aa = np.arange(120).reshape((3, 10, 4))"
   ]
  },
  {
   "cell_type": "code",
   "execution_count": 19,
   "metadata": {},
   "outputs": [
    {
     "data": {
      "text/plain": [
       "array([[ 0,  1,  2,  3],\n",
       "       [40, 41, 42, 43],\n",
       "       [80, 81, 82, 83]])"
      ]
     },
     "execution_count": 19,
     "metadata": {},
     "output_type": "execute_result"
    }
   ],
   "source": [
    "aa[:,0]"
   ]
  },
  {
   "cell_type": "code",
   "execution_count": 20,
   "metadata": {},
   "outputs": [
    {
     "data": {
      "text/plain": [
       "array([[ 4,  5,  6,  7],\n",
       "       [44, 45, 46, 47],\n",
       "       [84, 85, 86, 87]])"
      ]
     },
     "execution_count": 20,
     "metadata": {},
     "output_type": "execute_result"
    }
   ],
   "source": [
    "aa[:,1]"
   ]
  },
  {
   "cell_type": "code",
   "execution_count": 21,
   "metadata": {},
   "outputs": [],
   "source": [
    "bb = aa.reshape((3, 40))"
   ]
  },
  {
   "cell_type": "code",
   "execution_count": 24,
   "metadata": {},
   "outputs": [
    {
     "data": {
      "text/plain": [
       "array([[ 0,  1,  2,  3,  4,  5,  6,  7],\n",
       "       [40, 41, 42, 43, 44, 45, 46, 47],\n",
       "       [80, 81, 82, 83, 84, 85, 86, 87]])"
      ]
     },
     "execution_count": 24,
     "metadata": {},
     "output_type": "execute_result"
    }
   ],
   "source": [
    "bb[:,:8]"
   ]
  }
 ],
 "metadata": {
  "kernelspec": {
   "display_name": "Python 3",
   "language": "python",
   "name": "python3"
  },
  "language_info": {
   "codemirror_mode": {
    "name": "ipython",
    "version": 3
   },
   "file_extension": ".py",
   "mimetype": "text/x-python",
   "name": "python",
   "nbconvert_exporter": "python",
   "pygments_lexer": "ipython3",
   "version": "3.8.1"
  }
 },
 "nbformat": 4,
 "nbformat_minor": 4
}
