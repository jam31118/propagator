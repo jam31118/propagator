{
 "cells": [
  {
   "cell_type": "code",
   "execution_count": 1,
   "metadata": {},
   "outputs": [],
   "source": [
    "import numpy as np\n",
    "import matplotlib.pyplot as plt"
   ]
  },
  {
   "cell_type": "code",
   "execution_count": 2,
   "metadata": {},
   "outputs": [],
   "source": [
    "# from math import pi\n",
    "\n",
    "# def norm_sq_of_wf_over_r_on_uniform_grid_polar_box(wf, dr):\n",
    "#     \"\"\"Evalaute the norm square of the given wavefunction array\n",
    "    \n",
    "#     Parameters\n",
    "#     ----------\n",
    "#     wf : (..., Nm, Nr) array-like\n",
    "#         a single or an array of wavefunction arrays\n",
    "#         with each wavefunction of shape (Nm, Nr)\n",
    "#     dr : float\n",
    "#         a grid spacing of the radial grid\n",
    "#     \"\"\"\n",
    "#     _wf = np.asarray(wf)\n",
    "#     _Nr = _wf.shape[-1]\n",
    "#     _r_arr = dr * np.arange(1,_Nr+1)\n",
    "#     _wf_abs_sq = np.real(wf.conj() * wf)\n",
    "#     return 2.* pi * dr * np.sum(np.sum(_wf_abs_sq / _r_arr, axis=-1), axis=-1)\n",
    "\n",
    "# def normalize_wf_over_r_on_uniform_grid_polar_box(wf, dr):\n",
    "#     _norm_sq = norm_sq_of_wf_over_r_on_uniform_grid_polar_box(wf, dr)\n",
    "#     wf *= 1. / np.sqrt(_norm_sq)\n",
    "\n",
    "# from tdse.evol import (get_M2_tridiag, get_D2_tridiag, mul_tridiag_and_diag, \n",
    "#                        get_M1_tridiag, get_D1_tridiag)\n",
    "# from tdse.tridiag import tridiag_forward, tridiag_backward, get_tridiag_shape\n",
    "\n",
    "# class Propagator_on_Uniform_Grid_Polar_Box_Over_r(object):\n",
    "#     \"\"\"Propagator object defined on a polar box with uniform grid\"\"\"\n",
    "    \n",
    "#     def __init__(self, Nr, dr, m_max, Vr=0.0, hbar=1.0, mass=1.0):\n",
    "#         \"\"\"Initialize\n",
    "        \n",
    "#         Parameters\n",
    "#         ----------\n",
    "#         Nr : int\n",
    "#             the number of radial grid points\n",
    "#         dr : float\n",
    "#             the radial grid spacing\n",
    "#         m_max : int\n",
    "#             maximum azimuthal quantum number 'm'\n",
    "#         Vr : (Nr,) array-like\n",
    "#             radially symmetric potential values\n",
    "            \n",
    "#         Notes\n",
    "#         -----\n",
    "#         The total wavefunction is expanded as:\n",
    "        \n",
    "#         .. math::\n",
    "        \n",
    "#             \\\\psi(r,\\\\phi,t) = \n",
    "#             \\\\frac{1}{r}\\\\sum_{m=-m_{max}}^{m_{max}}\n",
    "#             {g_{m}(r,t)e^{im\\\\phi}}\n",
    "#         \"\"\"\n",
    "        \n",
    "#         # Check argumetns\n",
    "#         if Nr != int(Nr) or not (Nr > 0):\n",
    "#             _msg = \"`Nr` should be a positive integer. Given: {}\"\n",
    "#             raise ValueError(_msg.format(Nr))\n",
    "#         self.Nr = int(Nr)\n",
    "        \n",
    "#         if not (float(dr) > 0):\n",
    "#             _msg = \"`dr` should be positive real number. Given: {}\"\n",
    "#             raise ValueError(_msg.format(dr))\n",
    "#         self.dr = float(dr)\n",
    "        \n",
    "#         if m_max != int(m_max) or m_max < 0:\n",
    "#             _msg = \"`m_max` should be nonnegative integer. Given: {}\"\n",
    "#             raise ValueError(_msg.format(m_max))\n",
    "#         self.m_max = int(m_max)\n",
    "        \n",
    "#         self.Nm = 2 * self.m_max + 1\n",
    "#         self.m_iter = range(-self.m_max, self.m_max+1)\n",
    "        \n",
    "#         if Vr == 0.0: self.Vr = np.zeros((self.Nr,), dtype=np.float)\n",
    "#         else:\n",
    "#             _Vr = np.asarray(Vr)\n",
    "#             if _Vr.shape != (self.Nr,):\n",
    "#                 _msg = \"`Vr` should be of shape ({},). Given shape: {}\"\n",
    "#                 raise ValueError(_msg.format(self.Nr, _Vr.shape))\n",
    "#             self.Vr = _Vr\n",
    "        \n",
    "#         self.hbar, self.mass = hbar, mass\n",
    "        \n",
    "        \n",
    "#         # Evaluate matrices for constructing propagator\n",
    "#         self.r_arr = self.dr * np.arange(1, self.Nr+1)\n",
    "#         self.r_max = self.r_arr[-1] + dr\n",
    "#         self.M2 = get_M2_tridiag(self.Nr)\n",
    "        \n",
    "#         if self.M2.shape != get_tridiag_shape(self.Nr):\n",
    "#             raise Exception(\"Unexpected inner inconsistency on tridiag shape\")\n",
    "        \n",
    "#         _M2Hm_shape = (self.Nm,) + get_tridiag_shape(self.Nr)\n",
    "#         self.M2Hm = np.empty(_M2Hm_shape, dtype=self.Vr.dtype) \n",
    "        \n",
    "#         _D2 = get_D2_tridiag(self.Nr, self.dr)\n",
    "        \n",
    "#         _hbar2m = 0.5 * self.hbar**2 / self.mass\n",
    "#         _Kr = - _hbar2m * _D2  # something like radial kinetic energy\n",
    "        \n",
    "#         _r_sq_arr = np.square(self.r_arr)\n",
    "#         for _im, _m in enumerate(self.m_iter):\n",
    "#             _Vm = self.Vr - _hbar2m * (1-_m*_m) / _r_sq_arr\n",
    "#             _M2Vm = mul_tridiag_and_diag(self.M2, _Vm)\n",
    "#             self.M2Hm[_im,:,:] = _Kr + _M2Vm\n",
    "        \n",
    "#         _D1 = get_D1_tridiag(self.Nr, self.dr)\n",
    "#         self.M1H1 = _hbar2m * _D1 / self.r_arr\n",
    "#         self.M1 = get_M1_tridiag(self.Nr)\n",
    "    \n",
    "            \n",
    "#     def propagate(self, wf, dt, Nt=1):\n",
    "#         \"\"\"Propagate given wavefunction by a given timestep\n",
    "        \n",
    "#         Parameters\n",
    "#         ----------\n",
    "#         wf : (Nm, Nr) or (Nm*Nr,) array-like\n",
    "#             array of wavefunction values\n",
    "#             where `Nm` is the number of azimuthal basis\n",
    "#             and `Nr` is the number of radial grid points\n",
    "#         dt : float\n",
    "#             timestep to propagate\n",
    "#         Nt : int\n",
    "#             number of timesteps\n",
    "#         \"\"\"\n",
    "#         _wf = wf\n",
    "#         _wf_1d = np.ravel(wf)\n",
    "#         if _wf_1d.shape != (self.Nm * self.Nr,):\n",
    "#             _msg = (\"Inconsistent wavefunction shape given: {}\\n\"\n",
    "#                     \"It should be possible to flatten the shape into: {}\")\n",
    "#             raise ValueError(_msg.format(_wf_1d.shape, (self.Nm * self.Nr,)))\n",
    "        \n",
    "#         if Nt != int(Nt) or not (Nt > 0):\n",
    "#             _msg = \"`Nt` should be a positive integer\"\n",
    "#             raise ValueError(_msg.format(Nr))\n",
    "#         _Nt = int(Nt)\n",
    "        \n",
    "#         _FO = (-0.5j*dt/self.hbar) * self.M2Hm\n",
    "#         _unitary_shape = (3,)+_wf_1d.shape\n",
    "#         _unitary_forward_half = np.swapaxes(self.M2+_FO, 0, 1).reshape(_unitary_shape)\n",
    "#         _unitary_backward_half = np.swapaxes(self.M2-_FO, 0, 1).reshape(_unitary_shape)\n",
    "        \n",
    "#         _FO1 = (-0.25j*dt/self.hbar)*self.M1H1\n",
    "#         _uni1_forward_half_half = self.M1 + _FO1\n",
    "#         _uni1_backward_half_half = self.M1 - _FO1\n",
    "        \n",
    "        \n",
    "        \n",
    "#         # Iterate over time\n",
    "#         _wf_1d_half = np.empty_like(_wf_1d, dtype=complex)\n",
    "#         _wf_m_half = np.empty((self.Nr,), dtype=complex)\n",
    "        \n",
    "#         for _it in range(_Nt):\n",
    "            \n",
    "#             for _im in range(self.Nm):\n",
    "#                 tridiag_forward(_uni1_forward_half_half, _wf[_im], _wf_m_half)\n",
    "#                 tridiag_backward(_uni1_backward_half_half, _wf[_im], _wf_m_half)\n",
    "            \n",
    "#             tridiag_forward(_unitary_forward_half, _wf_1d, _wf_1d_half)\n",
    "#             tridiag_backward(_unitary_backward_half, _wf_1d, _wf_1d_half)\n",
    "            \n",
    "#             for _im in range(self.Nm):\n",
    "#                 tridiag_forward(_uni1_forward_half_half, _wf[_im], _wf_m_half)\n",
    "#                 tridiag_backward(_uni1_backward_half_half, _wf[_im], _wf_m_half)\n",
    "            \n",
    "            \n",
    "#     def propagate_to_ground_state(self, wf, dt=None, max_Nt=20000, Nt_per_iter=10, \n",
    "#                                   norm_thres=1e-13):\n",
    "#         \"\"\"Propagate the given wavefunction to the ground state of this system\"\"\"\n",
    "#         if dt is None: _dt = self.dr / 4.\n",
    "#         else:\n",
    "#             _dt = float(dt)\n",
    "#             if not (_dt > 0): \n",
    "#                 _msg = \"`dt` should be a positive real number. Given: {}\"\n",
    "#                 raise ValueError(_msg.format(_dt))\n",
    "#         _imag_dt = -1.0j * _dt  # imaginary time for propagating to ground state\n",
    "        \n",
    "#         normalize_wf_over_r_on_uniform_grid_polar_box(wf, self.dr)\n",
    "#         _wf_prev = wf.copy()\n",
    "        \n",
    "#         _max_iter = int(max_Nt / Nt_per_iter) + 1\n",
    "#         for _i in range(_max_iter):\n",
    "#             self.propagate(wf, _imag_dt, Nt=Nt_per_iter)\n",
    "#             normalize_wf_over_r_on_uniform_grid_polar_box(wf, self.dr)\n",
    "#             _norm = norm_sq_of_wf_over_r_on_uniform_grid_polar_box(wf-_wf_prev, self.dr)\n",
    "#             if _norm < norm_thres: break\n",
    "#             _wf_prev = wf.copy()\n",
    "#         if _i >= _max_iter-1: raise Exception(\"Maximum iteration exceeded\")\n",
    "#         else: print(\"iteration count at end: {}\".format(_i))"
   ]
  },
  {
   "cell_type": "code",
   "execution_count": 3,
   "metadata": {},
   "outputs": [],
   "source": [
    "from tdse.propagator.polar import Propagator_on_Uniform_Grid_Polar_Box_Over_r\n",
    "\n",
    "prop = Propagator_on_Uniform_Grid_Polar_Box_Over_r(Nr=101, dr=0.2, m_max=1, Vr=0.0)"
   ]
  },
  {
   "cell_type": "code",
   "execution_count": 4,
   "metadata": {},
   "outputs": [],
   "source": [
    "wf = np.zeros((prop.Nm, prop.Nr), dtype=complex)\n",
    "wf[2] = np.random.rand(prop.Nr)"
   ]
  },
  {
   "cell_type": "code",
   "execution_count": 5,
   "metadata": {},
   "outputs": [
    {
     "name": "stdout",
     "output_type": "stream",
     "text": [
      "iteration count at end: 331\n"
     ]
    }
   ],
   "source": [
    "prop.propagate_to_ground_state(wf, norm_thres=1e-10)"
   ]
  },
  {
   "cell_type": "code",
   "execution_count": 6,
   "metadata": {},
   "outputs": [
    {
     "data": {
      "text/plain": [
       "<matplotlib.legend.Legend at 0x7f11f14803d0>"
      ]
     },
     "execution_count": 6,
     "metadata": {},
     "output_type": "execute_result"
    },
    {
     "data": {
      "image/png": "[encoded data removed]",
      "text/plain": [
       "<Figure size 432x288 with 1 Axes>"
      ]
     },
     "metadata": {
      "needs_background": "light"
     },
     "output_type": "display_data"
    }
   ],
   "source": [
    "fig, ax = plt.subplots()\n",
    "for im, m in enumerate(prop.m_iter):\n",
    "    ax.plot(prop.r_arr, wf[im].real, label='m={}'.format(m))\n",
    "ax.set_xlabel(r\"radial distance $\\rho$ / a.u.\")\n",
    "ax.legend()"
   ]
  },
  {
   "cell_type": "code",
   "execution_count": 7,
   "metadata": {},
   "outputs": [],
   "source": [
    "from scipy.special import jn, jn_zeros\n",
    "\n",
    "j0_zero_0, = jn_zeros(0, 1)\n",
    "j0_r = jn(0, j0_zero_0 * prop.r_arr / prop.r_max)\n",
    "g0_r_ana = prop.r_arr * j0_r\n",
    "prop.wf_class.normalize(g0_r_ana, prop.dr)\n",
    "\n",
    "j1_zero_0, = jn_zeros(1, 1)\n",
    "j1_r = jn(1, j1_zero_0 * prop.r_arr / prop.r_max)\n",
    "g1_r_ana = prop.r_arr * j1_r\n",
    "prop.wf_class.normalize(g1_r_ana, prop.dr)\n",
    "\n",
    "g0_r_num = wf[1]\n",
    "g1_r_num = wf[2]"
   ]
  },
  {
   "cell_type": "code",
   "execution_count": 8,
   "metadata": {},
   "outputs": [
    {
     "data": {
      "text/plain": [
       "<matplotlib.legend.Legend at 0x7f11eeceb3a0>"
      ]
     },
     "execution_count": 8,
     "metadata": {},
     "output_type": "execute_result"
    },
    {
     "data": {
      "image/png": "[encoded data removed]",
      "text/plain": [
       "<Figure size 432x288 with 1 Axes>"
      ]
     },
     "metadata": {
      "needs_background": "light"
     },
     "output_type": "display_data"
    }
   ],
   "source": [
    "g_ana = g1_r_ana\n",
    "g_num = g1_r_num\n",
    "\n",
    "fig, ax = plt.subplots()\n",
    "\n",
    "lnum, = ax.plot(prop.r_arr, g_num.real, '.-', label='numerical')\n",
    "# ax.plot(prop.r_arr, np.abs(g_num), color=lnum.get_color(), linewidth=0.7)\n",
    "\n",
    "ax.plot(prop.r_arr, g_ana, '--', label='analytical')\n",
    "\n",
    "ax.set_xlabel(\"r / a.u.\"), ax.set_ylabel(\"amplitude / a.u.\")\n",
    "ax.legend()\n",
    "# fig.savefig(\"ground-state-prototype-with-spilt-op-m-1-test-5.png\")"
   ]
  },
  {
   "cell_type": "markdown",
   "metadata": {},
   "source": [
    "# [TODO] Let's boost to match the slope at r=0 to the analytical one. What can be a proper procedure?\n",
    "\n",
    "![ddd](ground-state-prototype-with-spilt-op-dr-0.1.png)\n",
    "\n",
    "- let's check the .. D1 and M1 .. let's think how to change them"
   ]
  },
  {
   "cell_type": "code",
   "execution_count": 9,
   "metadata": {},
   "outputs": [],
   "source": [
    "# from numpy import pi\n",
    "# class Wavefunction_on_Uniform_Grid_Polar_Box_Over_r(object):\n",
    "#     @staticmethod\n",
    "#     def eval_at_real_space(wf, dr, phi):\n",
    "#         _phi = np.asarray(phi)\n",
    "#         if _phi.ndim == 0 and int(_phi) == _phi: _phi = np.linspace(0, 2.*pi, int(_phi))\n",
    "#         elif _phi.ndim == 1: pass\n",
    "#         else: raise ValueError(\"Unacceptable given `phi`: {}\".format(phi))\n",
    "        \n",
    "#         _wf = np.asarray(wf)\n",
    "#         if _wf.ndim == 1: _wf.reshape((1,_wf.size))\n",
    "#         elif _wf.ndim == 2: pass\n",
    "#         else: raise ValueError(\"Unacceptable wf dimension: {}\".format(_wf.ndim))\n",
    "#         _Nm, _Nr = _wf.shape\n",
    "        \n",
    "#         assert (_Nm % 2) == 1\n",
    "#         _max_m = int(_Nm // 2)\n",
    "#         _m_arr = np.arange(-_max_m, _max_m+1, dtype=int)\n",
    "#         _exp_imphi = np.exp(1.j*np.outer(_m_arr, _phi))\n",
    "        \n",
    "#         _r_arr = dr * np.arange(1, _Nr+1)\n",
    "        \n",
    "#         _wf_real_space = np.einsum(_wf, [0, 1], _exp_imphi, [0, 2], [2, 1]) / _r_arr\n",
    "#         return _wf_real_space"
   ]
  },
  {
   "cell_type": "code",
   "execution_count": 10,
   "metadata": {},
   "outputs": [],
   "source": [
    "phi_arr = np.linspace(0., 2.*np.pi, 101)\n",
    "wf_polar = prop.wf_class.eval_at_real_space(wf, prop.dr, phi_arr)"
   ]
  },
  {
   "cell_type": "code",
   "execution_count": 11,
   "metadata": {},
   "outputs": [],
   "source": [
    "from vis.plot import construct_polar_mesh_for_colormesh\n",
    "r_cmesh, phi_cmesh = construct_polar_mesh_for_colormesh(prop.r_arr, phi_arr)"
   ]
  },
  {
   "cell_type": "code",
   "execution_count": 12,
   "metadata": {},
   "outputs": [
    {
     "data": {
      "text/plain": [
       "(Text(0.5, 0, 'x / a.u.'), Text(0, 0.5, 'y / a.u.'))"
      ]
     },
     "execution_count": 12,
     "metadata": {},
     "output_type": "execute_result"
    },
    {
     "data": {
      "image/png": "[encoded data removed]",
      "text/plain": [
       "<Figure size 432x288 with 1 Axes>"
      ]
     },
     "metadata": {
      "needs_background": "light"
     },
     "output_type": "display_data"
    }
   ],
   "source": [
    "fig, ax = plt.subplots()\n",
    "vmax = np.abs(wf_polar).max()\n",
    "ax.pcolormesh(r_cmesh, phi_cmesh, wf_polar.transpose().real, cmap='seismic', vmin=-vmax, vmax=vmax)\n",
    "ax.set_aspect(1.0)\n",
    "ax.set_xlabel(\"x / a.u.\"), ax.set_ylabel(\"y / a.u.\")\n",
    "\n",
    "# fig.savefig(\"wf-real-space-reconst-test-2.png\")"
   ]
  },
  {
   "cell_type": "markdown",
   "metadata": {},
   "source": [
    "# [TODO] Evaluate the energy and compare\n",
    "\n",
    "- be careful to evaluate the energy with Numerov-boosted Hamiltonian"
   ]
  },
  {
   "cell_type": "markdown",
   "metadata": {},
   "source": [
    "# [TODO] implement c-boosted version of gaussian ellimination"
   ]
  }
 ],
 "metadata": {
  "kernelspec": {
   "display_name": "Python 3",
   "language": "python",
   "name": "python3"
  },
  "language_info": {
   "codemirror_mode": {
    "name": "ipython",
    "version": 3
   },
   "file_extension": ".py",
   "mimetype": "text/x-python",
   "name": "python",
   "nbconvert_exporter": "python",
   "pygments_lexer": "ipython3",
   "version": "3.8.1"
  }
 },
 "nbformat": 4,
 "nbformat_minor": 4
}
